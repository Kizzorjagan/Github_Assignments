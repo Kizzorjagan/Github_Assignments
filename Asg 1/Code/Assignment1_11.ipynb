{
 "cells": [
  {
   "cell_type": "code",
   "execution_count": 1,
   "id": "18d8fa58",
   "metadata": {},
   "outputs": [],
   "source": [
    "import numpy as np\n",
    "import pandas as pd\n",
    "from scipy import stats\n",
    "from scipy.stats import norm"
   ]
  },
  {
   "cell_type": "code",
   "execution_count": 2,
   "id": "97e78ecd",
   "metadata": {},
   "outputs": [
    {
     "data": {
      "text/plain": [
       "(199.94357619175545, 200.05642380824455)"
      ]
     },
     "execution_count": 2,
     "metadata": {},
     "output_type": "execute_result"
    }
   ],
   "source": [
    "stats.norm.interval(0.94,200,30/(2000*0.5))"
   ]
  },
  {
   "cell_type": "code",
   "execution_count": 3,
   "id": "0f1fad3e",
   "metadata": {},
   "outputs": [
    {
     "data": {
      "text/plain": [
       "(199.93838753268105, 200.06161246731895)"
      ]
     },
     "execution_count": 3,
     "metadata": {},
     "output_type": "execute_result"
    }
   ],
   "source": [
    "stats.norm.interval(0.96,200,30/(2000*0.5))"
   ]
  },
  {
   "cell_type": "code",
   "execution_count": 4,
   "id": "219fcd7f",
   "metadata": {},
   "outputs": [
    {
     "data": {
      "text/plain": [
       "(199.9302095637788, 200.0697904362212)"
      ]
     },
     "execution_count": 4,
     "metadata": {},
     "output_type": "execute_result"
    }
   ],
   "source": [
    "stats.norm.interval(0.98,200,30/(2000*0.5))"
   ]
  },
  {
   "cell_type": "code",
   "execution_count": null,
   "id": "5f2c8027",
   "metadata": {},
   "outputs": [],
   "source": []
  }
 ],
 "metadata": {
  "kernelspec": {
   "display_name": "Python 3",
   "language": "python",
   "name": "python3"
  },
  "language_info": {
   "codemirror_mode": {
    "name": "ipython",
    "version": 3
   },
   "file_extension": ".py",
   "mimetype": "text/x-python",
   "name": "python",
   "nbconvert_exporter": "python",
   "pygments_lexer": "ipython3",
   "version": "3.8.8"
  }
 },
 "nbformat": 4,
 "nbformat_minor": 5
}
